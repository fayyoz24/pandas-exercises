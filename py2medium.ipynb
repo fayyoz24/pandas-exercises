{
 "cells": [
  {
   "cell_type": "code",
   "execution_count": 1,
   "metadata": {},
   "outputs": [
    {
     "name": "stdout",
     "output_type": "stream",
     "text": [
      "0    0.443090\n",
      "1    0.540346\n",
      "2    0.656853\n",
      "3    0.063568\n",
      "4    0.461100\n",
      "dtype: float64\n"
     ]
    }
   ],
   "source": [
    "import pandas as pd\r\n",
    "import numpy as np\r\n",
    "df = pd.DataFrame(np.random.random(size=(5, 3)))\r\n",
    "a = df.mean(axis=1)\r\n",
    "print(a)"
   ]
  },
  {
   "cell_type": "code",
   "execution_count": 3,
   "metadata": {},
   "outputs": [
    {
     "name": "stdout",
     "output_type": "stream",
     "text": [
      "a    1.240110\n",
      "b    3.039883\n",
      "c    1.889919\n",
      "d    3.507713\n",
      "e    3.479625\n",
      "f    2.048117\n",
      "g    1.131955\n",
      "h    2.955856\n",
      "i    2.158415\n",
      "j    1.893754\n",
      "dtype: float64\n",
      "1.1319549213027424\n"
     ]
    }
   ],
   "source": [
    "import pandas as pd\r\n",
    "df = pd.DataFrame(np.random.random(size=(5, 10)), columns=list(\"abcdefghij\"))\r\n",
    "a = df.sum(axis=0)\r\n",
    "b = a.min()\r\n",
    "print(a)\r\n",
    "print(b)"
   ]
  }
 ],
 "metadata": {
  "interpreter": {
   "hash": "f0f151fb9d7b97a62fa5c41a8db87afd24bc9dfc4a7dee16945255f0683f6a3b"
  },
  "kernelspec": {
   "display_name": "Python 3.8.8 64-bit ('fayyo': virtualenv)",
   "name": "python3"
  },
  "language_info": {
   "codemirror_mode": {
    "name": "ipython",
    "version": 3
   },
   "file_extension": ".py",
   "mimetype": "text/x-python",
   "name": "python",
   "nbconvert_exporter": "python",
   "pygments_lexer": "ipython3",
   "version": "3.8.8"
  },
  "orig_nbformat": 4
 },
 "nbformat": 4,
 "nbformat_minor": 2
}